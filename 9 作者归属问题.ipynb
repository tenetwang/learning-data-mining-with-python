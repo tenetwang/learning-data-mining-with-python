{
 "cells": [
  {
   "cell_type": "markdown",
   "metadata": {
    "toc": true
   },
   "source": [
    "<h1>Table of Contents<span class=\"tocSkip\"></span></h1>\n",
    "<div class=\"toc\"><ul class=\"toc-item\"><li><span><a href=\"#为作品找作者\" data-toc-modified-id=\"为作品找作者-1\"><span class=\"toc-item-num\">1&nbsp;&nbsp;</span>为作品找作者</a></span><ul class=\"toc-item\"><li><span><a href=\"#问题的封闭性\" data-toc-modified-id=\"问题的封闭性-1.1\"><span class=\"toc-item-num\">1.1&nbsp;&nbsp;</span>问题的封闭性</a></span></li><li><span><a href=\"#获取数据\" data-toc-modified-id=\"获取数据-1.2\"><span class=\"toc-item-num\">1.2&nbsp;&nbsp;</span>获取数据</a></span></li></ul></li></ul></div>"
   ]
  },
  {
   "cell_type": "markdown",
   "metadata": {},
   "source": [
    "文本挖掘任务：作者分析的目标是只根据作品内容找出作者独有的特点，比如年龄、性别或背景。  \n",
    "作者归属是作者分析的一个细分领域，从文档集合中找出目标文档，是一类典型的分类任务，一般采用标准的数据挖掘方法，比如交叉验证、特征抽取、交叉验证。  \n"
   ]
  },
  {
   "cell_type": "markdown",
   "metadata": {},
   "source": [
    "本章节主要内容：\n",
    " - 特征工程：如何进行特征选择\n",
    " - 回顾词袋模型bagging\n",
    " - 特征类型和字符N元语法模型\n",
    " - SVM\n",
    " - 数据集清洗"
   ]
  },
  {
   "cell_type": "markdown",
   "metadata": {},
   "source": [
    "# 为作品找作者"
   ]
  },
  {
   "cell_type": "markdown",
   "metadata": {},
   "source": [
    "作者分析衍生出的问题主要有以下几个：\n",
    " - 作者画像：根据作品界定作者的年龄、性别、背景等其他特征。例如，通过观察一个人讲英语的方式，判断英语是否是他的母语。\n",
    " - 作者验证：根据作者已有作品，推断其他作品是否是他的。例如，通过嫌疑犯的写作风格，以确定勒索信发方。\n",
    " - 作者聚类：聚类分析，把作品按照作者进行分类。"
   ]
  },
  {
   "cell_type": "markdown",
   "metadata": {},
   "source": [
    "## 问题的封闭性\n",
    "对于一个数据任务，特别是分类任务，如果分类结果在已知的结果里面，是封闭问题，否则，问题是开放的。"
   ]
  },
  {
   "cell_type": "markdown",
   "metadata": {},
   "source": [
    "## 获取数据\n",
    "使用 [gutenburg](www.gutenber.org) 的收集的若干作品"
   ]
  },
  {
   "cell_type": "code",
   "execution_count": 2,
   "metadata": {},
   "outputs": [],
   "source": [
    "# 使用requests进行下载\n",
    "import requests\n",
    "import os\n",
    "import glob\n",
    "import sys\n",
    "data_folder = os.path.join(os.getcwd(), \"dataset\", \"books\")\n"
   ]
  },
  {
   "cell_type": "code",
   "execution_count": null,
   "metadata": {},
   "outputs": [],
   "source": []
  }
 ],
 "metadata": {
  "kernelspec": {
   "display_name": "Python [conda env:root] *",
   "language": "python",
   "name": "conda-root-py"
  },
  "language_info": {
   "codemirror_mode": {
    "name": "ipython",
    "version": 3
   },
   "file_extension": ".py",
   "mimetype": "text/x-python",
   "name": "python",
   "nbconvert_exporter": "python",
   "pygments_lexer": "ipython3",
   "version": "3.7.3"
  },
  "latex_envs": {
   "LaTeX_envs_menu_present": true,
   "autoclose": false,
   "autocomplete": true,
   "bibliofile": "biblio.bib",
   "cite_by": "apalike",
   "current_citInitial": 1,
   "eqLabelWithNumbers": true,
   "eqNumInitial": 1,
   "hotkeys": {
    "equation": "Ctrl-E",
    "itemize": "Ctrl-I"
   },
   "labels_anchors": false,
   "latex_user_defs": false,
   "report_style_numbering": false,
   "user_envs_cfg": false
  },
  "nbTranslate": {
   "displayLangs": [
    "*"
   ],
   "hotkey": "alt-t",
   "langInMainMenu": true,
   "sourceLang": "en",
   "targetLang": "fr",
   "useGoogleTranslate": true
  },
  "toc": {
   "base_numbering": 1,
   "nav_menu": {},
   "number_sections": true,
   "sideBar": true,
   "skip_h1_title": false,
   "title_cell": "Table of Contents",
   "title_sidebar": "Contents",
   "toc_cell": true,
   "toc_position": {},
   "toc_section_display": true,
   "toc_window_display": false
  },
  "varInspector": {
   "cols": {
    "lenName": 16,
    "lenType": 16,
    "lenVar": 40
   },
   "kernels_config": {
    "python": {
     "delete_cmd_postfix": "",
     "delete_cmd_prefix": "del ",
     "library": "var_list.py",
     "varRefreshCmd": "print(var_dic_list())"
    },
    "r": {
     "delete_cmd_postfix": ") ",
     "delete_cmd_prefix": "rm(",
     "library": "var_list.r",
     "varRefreshCmd": "cat(var_dic_list()) "
    }
   },
   "types_to_exclude": [
    "module",
    "function",
    "builtin_function_or_method",
    "instance",
    "_Feature"
   ],
   "window_display": false
  }
 },
 "nbformat": 4,
 "nbformat_minor": 4
}
