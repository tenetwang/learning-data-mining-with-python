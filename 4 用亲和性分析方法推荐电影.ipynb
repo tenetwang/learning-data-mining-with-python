{
 "cells": [
  {
   "cell_type": "markdown",
   "metadata": {
    "toc": true
   },
   "source": [
    "<h1>Table of Contents<span class=\"tocSkip\"></span></h1>\n",
    "<div class=\"toc\"><ul class=\"toc-item\"><li><span><a href=\"#Aprior算法\" data-toc-modified-id=\"Aprior算法-1\"><span class=\"toc-item-num\">1&nbsp;&nbsp;</span>Aprior算法</a></span><ul class=\"toc-item\"><li><span><a href=\"#Aprior-算法\" data-toc-modified-id=\"Aprior-算法-1.1\"><span class=\"toc-item-num\">1.1&nbsp;&nbsp;</span>Aprior 算法</a></span></li><li><span><a href=\"#抽取关联规则\" data-toc-modified-id=\"抽取关联规则-1.2\"><span class=\"toc-item-num\">1.2&nbsp;&nbsp;</span>抽取关联规则</a></span></li><li><span><a href=\"#评估\" data-toc-modified-id=\"评估-1.3\"><span class=\"toc-item-num\">1.3&nbsp;&nbsp;</span>评估</a></span></li></ul></li><li><span><a href=\"#总结\" data-toc-modified-id=\"总结-2\"><span class=\"toc-item-num\">2&nbsp;&nbsp;</span>总结</a></span></li></ul></div>"
   ]
  },
  {
   "cell_type": "markdown",
   "metadata": {},
   "source": [
    "亲和性分析, 通常用于找出在什么情况下两个对象经常一起出现.  \n",
    "也叫, 购物篮分析(因为被用于找哪些商品经常一起出现)\n",
    "应用场景:\n",
    " - 欺诈检测\n",
    " - 顾客区分\n",
    " - 软件优化\n",
    " - 产品推荐"
   ]
  },
  {
   "cell_type": "markdown",
   "metadata": {},
   "source": [
    "# Aprior算法\n",
    "Aprior 算法是典型和基础的亲和性分析算法, 从数据集中频繁出现的商品中选取共同出现的商品组成频繁项集,避免规则的指数级增长的搜索复杂度.  \n",
    "Aprior首先确保规则在数据集中有足够的支持度(出现次数);  \n",
    "其次,频繁项集的自己也是频繁项集.  \n",
    "其他算法, 有Eclat和频繁项集挖掘算法(FP-growth)"
   ]
  },
  {
   "cell_type": "markdown",
   "metadata": {},
   "source": [
    "数据集  \n",
    "grouplens.org/datasets/movielens  \n",
    "1million\n"
   ]
  },
  {
   "cell_type": "code",
   "execution_count": 1,
   "metadata": {},
   "outputs": [
    {
     "name": "stderr",
     "output_type": "stream",
     "text": [
      "C:\\Users\\shelgor\\Anaconda3\\lib\\site-packages\\ipykernel_launcher.py:4: ParserWarning: Falling back to the 'python' engine because the 'c' engine does not support regex separators (separators > 1 char and different from '\\s+' are interpreted as regex); you can avoid this warning by specifying engine='python'.\n",
      "  after removing the cwd from sys.path.\n"
     ]
    },
    {
     "data": {
      "text/html": [
       "<div>\n",
       "<style scoped>\n",
       "    .dataframe tbody tr th:only-of-type {\n",
       "        vertical-align: middle;\n",
       "    }\n",
       "\n",
       "    .dataframe tbody tr th {\n",
       "        vertical-align: top;\n",
       "    }\n",
       "\n",
       "    .dataframe thead th {\n",
       "        text-align: right;\n",
       "    }\n",
       "</style>\n",
       "<table border=\"1\" class=\"dataframe\">\n",
       "  <thead>\n",
       "    <tr style=\"text-align: right;\">\n",
       "      <th></th>\n",
       "      <th>UserID</th>\n",
       "      <th>MovieID</th>\n",
       "      <th>Rating</th>\n",
       "      <th>Datetime</th>\n",
       "    </tr>\n",
       "  </thead>\n",
       "  <tbody>\n",
       "    <tr>\n",
       "      <th>0</th>\n",
       "      <td>1</td>\n",
       "      <td>1193</td>\n",
       "      <td>5</td>\n",
       "      <td>2000-12-31 22:12:40</td>\n",
       "    </tr>\n",
       "    <tr>\n",
       "      <th>1</th>\n",
       "      <td>1</td>\n",
       "      <td>661</td>\n",
       "      <td>3</td>\n",
       "      <td>2000-12-31 22:35:09</td>\n",
       "    </tr>\n",
       "    <tr>\n",
       "      <th>2</th>\n",
       "      <td>1</td>\n",
       "      <td>914</td>\n",
       "      <td>3</td>\n",
       "      <td>2000-12-31 22:32:48</td>\n",
       "    </tr>\n",
       "    <tr>\n",
       "      <th>3</th>\n",
       "      <td>1</td>\n",
       "      <td>3408</td>\n",
       "      <td>4</td>\n",
       "      <td>2000-12-31 22:04:35</td>\n",
       "    </tr>\n",
       "    <tr>\n",
       "      <th>4</th>\n",
       "      <td>1</td>\n",
       "      <td>2355</td>\n",
       "      <td>5</td>\n",
       "      <td>2001-01-06 23:38:11</td>\n",
       "    </tr>\n",
       "  </tbody>\n",
       "</table>\n",
       "</div>"
      ],
      "text/plain": [
       "   UserID  MovieID  Rating            Datetime\n",
       "0       1     1193       5 2000-12-31 22:12:40\n",
       "1       1      661       3 2000-12-31 22:35:09\n",
       "2       1      914       3 2000-12-31 22:32:48\n",
       "3       1     3408       4 2000-12-31 22:04:35\n",
       "4       1     2355       5 2001-01-06 23:38:11"
      ]
     },
     "execution_count": 1,
     "metadata": {},
     "output_type": "execute_result"
    }
   ],
   "source": [
    "import os\n",
    "import pandas as pd\n",
    "rating_filename = os.path.join(os.getcwd(), 'dataset', 'ml-1m', 'ratings.dat')\n",
    "all_ratings = pd.read_csv(rating_filename, delimiter='::', header=None, names=[\"UserID\", 'MovieID','Rating','Datetime'])\n",
    "all_ratings[\"Datetime\"] = pd.to_datetime(all_ratings[\"Datetime\"], unit='s')\n",
    "all_ratings[:5]"
   ]
  },
  {
   "cell_type": "markdown",
   "metadata": {},
   "source": [
    "以上表示, 称为 稀疏矩阵  \n",
    "实际上, 当矩阵60%以上为0时, 采用这种关系列表是更好的选择.  \n",
    "稀疏矩阵, 看起来并不像矩阵.  "
   ]
  },
  {
   "cell_type": "code",
   "execution_count": 2,
   "metadata": {},
   "outputs": [],
   "source": [
    "# 生成规则: 如果用户喜欢某些电影, 那么他们也会喜欢这部电影 \n",
    "# 新建favorable列表, 若喜欢该电影则为True\n",
    "all_ratings[\"Favorable\"] = (all_ratings[\"Rating\"]>3)\n",
    "# 先选取部分数据集进行训练, 减少搜索空间, 提升Aprior算法速度\n",
    "# 这里选取前200名用户进行打分\n",
    "ratings = all_ratings[all_ratings[\"UserID\"].isin(range(200))]\n",
    "favorable_ratings = ratings[ratings[\"Favorable\"]==True]"
   ]
  },
  {
   "cell_type": "code",
   "execution_count": 3,
   "metadata": {},
   "outputs": [
    {
     "data": {
      "text/html": [
       "<div>\n",
       "<style scoped>\n",
       "    .dataframe tbody tr th:only-of-type {\n",
       "        vertical-align: middle;\n",
       "    }\n",
       "\n",
       "    .dataframe tbody tr th {\n",
       "        vertical-align: top;\n",
       "    }\n",
       "\n",
       "    .dataframe thead th {\n",
       "        text-align: right;\n",
       "    }\n",
       "</style>\n",
       "<table border=\"1\" class=\"dataframe\">\n",
       "  <thead>\n",
       "    <tr style=\"text-align: right;\">\n",
       "      <th></th>\n",
       "      <th>Favorable</th>\n",
       "    </tr>\n",
       "    <tr>\n",
       "      <th>MovieID</th>\n",
       "      <th></th>\n",
       "    </tr>\n",
       "  </thead>\n",
       "  <tbody>\n",
       "    <tr>\n",
       "      <th>2858</th>\n",
       "      <td>106.0</td>\n",
       "    </tr>\n",
       "    <tr>\n",
       "      <th>2028</th>\n",
       "      <td>85.0</td>\n",
       "    </tr>\n",
       "    <tr>\n",
       "      <th>1196</th>\n",
       "      <td>83.0</td>\n",
       "    </tr>\n",
       "    <tr>\n",
       "      <th>260</th>\n",
       "      <td>80.0</td>\n",
       "    </tr>\n",
       "    <tr>\n",
       "      <th>3578</th>\n",
       "      <td>77.0</td>\n",
       "    </tr>\n",
       "  </tbody>\n",
       "</table>\n",
       "</div>"
      ],
      "text/plain": [
       "         Favorable\n",
       "MovieID           \n",
       "2858         106.0\n",
       "2028          85.0\n",
       "1196          83.0\n",
       "260           80.0\n",
       "3578          77.0"
      ]
     },
     "execution_count": 3,
     "metadata": {},
     "output_type": "execute_result"
    }
   ],
   "source": [
    "favorable_review_by_users = dict((k, frozenset(v.values))\n",
    "                                for k,v in favorable_ratings.groupby(\"UserID\")[\"MovieID\"])\n",
    "num_favorable_by_movie = ratings[[\"MovieID\", \"Favorable\"]].groupby(\"MovieID\").sum()\n",
    "num_favorable_by_movie.sort_values(by=\"Favorable\",ascending=False)[:5]"
   ]
  },
  {
   "cell_type": "markdown",
   "metadata": {},
   "source": [
    "## Aprior 算法  \n",
    "1. 初始化: 按照支持度要求, 生成质保函自己的项集;  \n",
    "2. 查找现有频繁项集的超集, 生成备选集;  \n",
    "3. 测试备选集是否满足频繁程度要求,舍弃不频繁的项集;\n",
    "4. 如果未发现新的频繁项集, 步骤5输出; 否则, 以新的频繁项集返回步骤2;\n",
    "5. 输出当前所有频繁项集"
   ]
  },
  {
   "cell_type": "code",
   "execution_count": 4,
   "metadata": {},
   "outputs": [
    {
     "name": "stdout",
     "output_type": "stream",
     "text": [
      "found 268 frequent itemsets of length 2\n",
      "found 1447 frequent itemsets of length 3\n",
      "found 4938 frequent itemsets of length 4\n",
      "time cost:10.617615699768066\n"
     ]
    }
   ],
   "source": [
    "# 频繁项集保存到dict中, key为项集长度, value为频繁项集\n",
    "frequent_itemsets = {}\n",
    "min_support = 50  # 最小支持度, 用以生成只包含自己的频繁项集\n",
    "frequent_itemsets[1] = dict((frozenset((movie_id,)), row[\"Favorable\"]) #  这里frozenset的写法一定要这样, 不然会提示TypeError: int not iterable\n",
    "                            for movie_id, row in num_favorable_by_movie.iterrows()\n",
    "                            if row[\"Favorable\"]>min_support)\n",
    "from collections import defaultdict\n",
    "#  声明一个函数来实现超集和筛选的过程\n",
    "def find_frequent_itemsets(favorable_review_by_users, k_1_itemsets, min_support):\n",
    "    counts = defaultdict(int)\n",
    "    for user, reviews in favorable_review_by_users.items():\n",
    "        for itemset in k_1_itemsets:\n",
    "            if itemset.issubset(reviews):\n",
    "                for other_reviewed_movie in reviews - itemset:\n",
    "                    current_superset = itemset | frozenset((other_reviewed_movie,))\n",
    "                    counts[current_superset] += 1\n",
    "    return dict([(itemset, frequency) for itemset, frequency in counts.items() if frequency>=min_support])\n",
    "#  遍历k频繁项集长度, 由少到多\n",
    "#  计算时间\n",
    "import time\n",
    "import sys\n",
    "t1 = time.time()\n",
    "for k in range(2,5):\n",
    "    cur_frequent_itemsets= find_frequent_itemsets(favorable_review_by_users, frequent_itemsets[k-1], min_support)\n",
    "    frequent_itemsets[k] = cur_frequent_itemsets\n",
    "    if len(cur_frequent_itemsets)==0:\n",
    "        print(\"not found frequent itemset for length {0}\".format(k))\n",
    "        sys.stdout.flush()\n",
    "        break\n",
    "    else:\n",
    "        print(\"found {0} frequent itemsets of length {1}\".format(len(cur_frequent_itemsets), k))\n",
    "        sys.stdout.flush()\n",
    "del frequent_itemsets[1]\n",
    "t2 = time.time()\n",
    "print(\"time cost:{0}\".format(t2-t1))\n",
    "   "
   ]
  },
  {
   "cell_type": "markdown",
   "metadata": {},
   "source": [
    "## 抽取关联规则 "
   ]
  },
  {
   "cell_type": "code",
   "execution_count": 7,
   "metadata": {},
   "outputs": [
    {
     "name": "stdout",
     "output_type": "stream",
     "text": [
      "[(frozenset({260}), 1), (frozenset({1}), 260), (frozenset({1}), 1097), (frozenset({1097}), 1), (frozenset({2762}), 1)]\n"
     ]
    },
    {
     "data": {
      "text/plain": [
       "[((frozenset({589, 1198}), 1196), 1.0),\n",
       " ((frozenset({1198, 2571}), 1196), 1.0),\n",
       " ((frozenset({1097, 1210}), 1196), 1.0),\n",
       " ((frozenset({110, 593, 3578}), 2571), 1.0),\n",
       " ((frozenset({110, 1198, 2571}), 1196), 1.0)]"
      ]
     },
     "execution_count": 7,
     "metadata": {},
     "output_type": "execute_result"
    }
   ],
   "source": [
    "#  将规则描述为, 如果用户喜欢了一部分电影, 那么会喜欢结论中的电影\n",
    "candidate_rules = []\n",
    "for itemset_length, itemset_count in frequent_itemsets.items():\n",
    "    for itemset in itemset_count.keys():\n",
    "        for conclusions in itemset:\n",
    "            premise = itemset - set((conclusions,))\n",
    "            candidate_rules.append((premise, conclusions))\n",
    "print(candidate_rules[:5])\n",
    "# 计算规则的置信度\n",
    "valid = defaultdict(int)\n",
    "invalid = defaultdict(int)\n",
    "for user, reviews in favorable_review_by_users.items():\n",
    "    for candidate_rule in candidate_rules:\n",
    "        premise, conclusion = candidate_rule\n",
    "        if premise.issubset(reviews):\n",
    "            if conclusion in reviews:\n",
    "                valid[candidate_rule] += 1\n",
    "            else:\n",
    "                invalid[candidate_rule] += 1\n",
    "#  将数值转换为比例\n",
    "rule_confidence = {rule: valid[rule] / float(valid[rule] + invalid[rule]) for rule in candidate_rules}\n",
    "sorted_confidence = sorted(rule_confidence.items(), key=lambda x:x[1], reverse=True)\n",
    "sorted_confidence[:5]"
   ]
  },
  {
   "cell_type": "markdown",
   "metadata": {},
   "source": [
    "## 评估 "
   ]
  },
  {
   "cell_type": "markdown",
   "metadata": {},
   "source": [
    "类似抽取关联规则中的置信度评估方法"
   ]
  },
  {
   "cell_type": "markdown",
   "metadata": {},
   "source": [
    "# 总结 "
   ]
  },
  {
   "cell_type": "markdown",
   "metadata": {},
   "source": [
    " - Aprior算法是一类不断尝试扩展频繁项集长度以搜索满足最小支持度的最长频繁项集的算法\n",
    " - 该算法在数据集特别大的时候, 搜索空间也会呈爆炸式增长, 当k增大, 组合数C(n,k)会阶乘式的增大, 搜索时间和构建字典占的内存都会爆炸, 所以无法搜索很长的频繁项集\n",
    " - 对于集合, 使用set()和frozenset()是不错的方法, 集合类本身的issubset()和issuperset()方法\n",
    " - 优雅的构建列表和字典\n",
    " - 字典的items()方法要记牢和熟练使用\n",
    " - 在长循环中, 使用sys.stdout.flush()可以刷新缓存区, 输出内容, 但是该方法会产生时间消耗(类似产生中断)"
   ]
  }
 ],
 "metadata": {
  "kernelspec": {
   "display_name": "Python [conda env:root] *",
   "language": "python",
   "name": "conda-root-py"
  },
  "language_info": {
   "codemirror_mode": {
    "name": "ipython",
    "version": 3
   },
   "file_extension": ".py",
   "mimetype": "text/x-python",
   "name": "python",
   "nbconvert_exporter": "python",
   "pygments_lexer": "ipython3",
   "version": "3.7.3"
  },
  "latex_envs": {
   "LaTeX_envs_menu_present": true,
   "autoclose": true,
   "autocomplete": true,
   "bibliofile": "biblio.bib",
   "cite_by": "apalike",
   "current_citInitial": 1,
   "eqLabelWithNumbers": true,
   "eqNumInitial": 1,
   "hotkeys": {
    "equation": "Ctrl-E",
    "itemize": "Ctrl-I"
   },
   "labels_anchors": false,
   "latex_user_defs": false,
   "report_style_numbering": false,
   "user_envs_cfg": false
  },
  "nbTranslate": {
   "displayLangs": [
    "*"
   ],
   "hotkey": "alt-t",
   "langInMainMenu": true,
   "sourceLang": "en",
   "targetLang": "fr",
   "useGoogleTranslate": true
  },
  "toc": {
   "base_numbering": 1,
   "nav_menu": {},
   "number_sections": true,
   "sideBar": true,
   "skip_h1_title": false,
   "title_cell": "Table of Contents",
   "title_sidebar": "Contents",
   "toc_cell": true,
   "toc_position": {},
   "toc_section_display": true,
   "toc_window_display": false
  },
  "varInspector": {
   "cols": {
    "lenName": 16,
    "lenType": 16,
    "lenVar": 40
   },
   "kernels_config": {
    "python": {
     "delete_cmd_postfix": "",
     "delete_cmd_prefix": "del ",
     "library": "var_list.py",
     "varRefreshCmd": "print(var_dic_list())"
    },
    "r": {
     "delete_cmd_postfix": ") ",
     "delete_cmd_prefix": "rm(",
     "library": "var_list.r",
     "varRefreshCmd": "cat(var_dic_list()) "
    }
   },
   "types_to_exclude": [
    "module",
    "function",
    "builtin_function_or_method",
    "instance",
    "_Feature"
   ],
   "window_display": false
  }
 },
 "nbformat": 4,
 "nbformat_minor": 4
}
