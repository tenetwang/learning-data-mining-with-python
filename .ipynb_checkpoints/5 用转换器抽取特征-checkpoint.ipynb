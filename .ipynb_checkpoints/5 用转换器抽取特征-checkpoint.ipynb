{
 "cells": [
  {
   "cell_type": "markdown",
   "metadata": {
    "toc": true
   },
   "source": [
    "<h1>Table of Contents<span class=\"tocSkip\"></span></h1>\n",
    "<div class=\"toc\"><ul class=\"toc-item\"><li><span><a href=\"#特征抽取\" data-toc-modified-id=\"特征抽取-1\"><span class=\"toc-item-num\">1&nbsp;&nbsp;</span>特征抽取</a></span><ul class=\"toc-item\"><li><span><a href=\"#通用的特征创建模式\" data-toc-modified-id=\"通用的特征创建模式-1.1\"><span class=\"toc-item-num\">1.1&nbsp;&nbsp;</span>通用的特征创建模式</a></span></li></ul></li><li><span><a href=\"#特征选择\" data-toc-modified-id=\"特征选择-2\"><span class=\"toc-item-num\">2&nbsp;&nbsp;</span>特征选择</a></span></li><li><span><a href=\"#创建特征\" data-toc-modified-id=\"创建特征-3\"><span class=\"toc-item-num\">3&nbsp;&nbsp;</span>创建特征</a></span><ul class=\"toc-item\"><li><span><a href=\"#主成分分析\" data-toc-modified-id=\"主成分分析-3.1\"><span class=\"toc-item-num\">3.1&nbsp;&nbsp;</span>主成分分析</a></span></li></ul></li></ul></div>"
   ]
  },
  {
   "cell_type": "markdown",
   "metadata": {},
   "source": [
    "文本, 图像, 声音, 视频乃至真实物体, 大多数数据挖掘算法都依赖于数值或者类别型特征  \n",
    "本节介绍如何抽取特征:\n",
    " - 从数据集中抽取特征  \n",
    " - 创建新特征  \n",
    " - 选取好的特征  \n",
    " - 创建转换器,处理数据集"
   ]
  },
  {
   "cell_type": "markdown",
   "metadata": {},
   "source": [
    "# 特征抽取 "
   ]
  },
  {
   "cell_type": "code",
   "execution_count": 1,
   "metadata": {},
   "outputs": [
    {
     "data": {
      "text/plain": [
       "Index(['Age', 'Work-Class', 'fnlwgt', 'Education', 'Education-Num',\n",
       "       'Marital-Status', 'Occupation', 'Relationship', 'Race', 'Sex',\n",
       "       'Capital-gain', 'Capital-loss', 'Hours-per-week', 'Native-Country',\n",
       "       'Earnings-Raw'],\n",
       "      dtype='object')"
      ]
     },
     "execution_count": 1,
     "metadata": {},
     "output_type": "execute_result"
    }
   ],
   "source": [
    "import os\n",
    "import pandas as pd\n",
    "adult_filename = os.path.join(os.getcwd(), \"dataset\", \"adult\", \"adult.data\")\n",
    "#为 adult 的列赋名\n",
    "names = [\"Age\", \n",
    "         \"Work-Class\",\n",
    "         \"fnlwgt\",\n",
    "         \"Education\",\n",
    "         \"Education-Num\",\n",
    "        \"Marital-Status\",\n",
    "         \"Occupation\",\n",
    "         \"Relationship\",\n",
    "         \"Race\",\n",
    "         \"Sex\",\n",
    "         \"Capital-gain\",\n",
    "         \"Capital-loss\",\n",
    "         \"Hours-per-week\",\n",
    "         \"Native-Country\",\n",
    "         \"Earnings-Raw\"\n",
    "        ]\n",
    "adult = pd.read_csv(adult_filename, header=None, names=names)\n",
    "#  清楚无用行\n",
    "adult.dropna(how=\"all\", inplace=True)\n",
    "adult.columns"
   ]
  },
  {
   "cell_type": "markdown",
   "metadata": {},
   "source": [
    "## 通用的特征创建模式\n",
    "一些通用的特征关注的是研究对象的物理属性:  \n",
    " - 空间属性: 对象的长宽高\n",
    " - 重量和密度\n",
    " - 年龄,使用年限或成分\n",
    " - 种类\n",
    " - 品质\n",
    " \n",
    "另一些可能与对象的使用和历史相关:\n",
    " - 生产商, 出版商, 创造者\n",
    " - 生产时间\n",
    " - 使用方法\n",
    " \n",
    "还有,从组成成分描述对象:\n",
    " - 次级成分的频率, 比如词频\n",
    " - 次级成分的数量和种类数量\n",
    " - 次级成分的平均大小, 比如平均句长"
   ]
  },
  {
   "cell_type": "code",
   "execution_count": 2,
   "metadata": {
    "scrolled": true
   },
   "outputs": [
    {
     "name": "stdout",
     "output_type": "stream",
     "text": [
      "                Age        fnlwgt  Education-Num  Capital-gain  Capital-loss  \\\n",
      "count  32561.000000  3.256100e+04   32561.000000  32561.000000  32561.000000   \n",
      "mean      38.581647  1.897784e+05      10.080679   1077.648844     87.303830   \n",
      "std       13.640433  1.055500e+05       2.572720   7385.292085    402.960219   \n",
      "min       17.000000  1.228500e+04       1.000000      0.000000      0.000000   \n",
      "25%       28.000000  1.178270e+05       9.000000      0.000000      0.000000   \n",
      "50%       37.000000  1.783560e+05      10.000000      0.000000      0.000000   \n",
      "75%       48.000000  2.370510e+05      12.000000      0.000000      0.000000   \n",
      "max       90.000000  1.484705e+06      16.000000  99999.000000   4356.000000   \n",
      "\n",
      "       Hours-per-week  \n",
      "count    32561.000000  \n",
      "mean        40.437456  \n",
      "std         12.347429  \n",
      "min          1.000000  \n",
      "25%         40.000000  \n",
      "50%         40.000000  \n",
      "75%         45.000000  \n",
      "max         99.000000  \n",
      "\n",
      "count    32561.000000\n",
      "mean        40.437456\n",
      "std         12.347429\n",
      "min          1.000000\n",
      "25%         40.000000\n",
      "50%         40.000000\n",
      "75%         45.000000\n",
      "max         99.000000\n",
      "Name: Hours-per-week, dtype: float64\n"
     ]
    }
   ],
   "source": [
    "#  pandas提供了常用统计量的特征计算\n",
    "#  使用describe()方法\n",
    "#  全局describe, 部分describe\n",
    "import sys\n",
    "import pprint\n",
    "print(adult.describe())\n",
    "print()\n",
    "print(adult[\"Hours-per-week\"].describe())"
   ]
  },
  {
   "cell_type": "code",
   "execution_count": 3,
   "metadata": {},
   "outputs": [],
   "source": [
    "#  使用数据框的unique方法得到所有情况\n",
    "adult[\"Work-Class\"].unique()\n",
    "# ? 代表数据集部分缺失\n",
    "#  将工作时长转化为类别特征\n",
    "adult[\"LongHours\"] = (adult[\"Hours-per-week\"]>40)"
   ]
  },
  {
   "cell_type": "markdown",
   "metadata": {},
   "source": [
    "# 特征选择"
   ]
  },
  {
   "cell_type": "markdown",
   "metadata": {},
   "source": [
    "通常只选取一小部分特征:  \n",
    " - 降低复杂度 \n",
    " - 降低噪声: 增加额外特征并不会总提高性能, 额外特征可能扰乱, 额外特征间的相关性和模式没有实际应用价值(在小数据集上很常见), 因此只选择合适的特征有助于减少这种几率\n",
    " - 增加模型可读性"
   ]
  },
  {
   "cell_type": "markdown",
   "metadata": {},
   "source": [
    "在开始前, 有些基础测试要做  \n",
    "比如, 确保特征值是不同的, 如果特征值都相同则没有信息量  \n",
    "sklearn中转换器VarianceThreshold可以删除方差达不到最低标准的特征  \\\n",
    "小方差的数据不但没有作用, 还会拖慢运行速度"
   ]
  },
  {
   "cell_type": "markdown",
   "metadata": {},
   "source": [
    "寻找最佳特征子集的复杂度, 会随着任务复杂度呈指数级增长.  \n",
    "其中一个变通的方法是转而找单个特征(单变量), 依据是它们所能达到的精确度.   \n",
    "分类任务通常这么做, 测量单变量和目标类别的之间的某种相关性.  "
   ]
  },
  {
   "cell_type": "markdown",
   "metadata": {},
   "source": [
    "sklearn提供了集中用于选择的单变量特征转换器,  \n",
    "比如  \n",
    "SelectKbest返回k个最佳特征  \n",
    "SelectPercentile返回表现最佳的前r%个特征"
   ]
  },
  {
   "cell_type": "markdown",
   "metadata": {},
   "source": [
    "单个特征和某一类别之间的相关性的计算方法有很多,  \n",
    "最常用的有卡方检验,  \n",
    "还有互信息, 信息熵等  "
   ]
  },
  {
   "cell_type": "code",
   "execution_count": 35,
   "metadata": {},
   "outputs": [],
   "source": [
    "#抽取如下数据, 并以收入Earnings-Raw是否达到5万作为类别进行判断\n",
    "X = adult[\n",
    "    [\n",
    "        \"Age\", \n",
    "        \"Education-Num\",\n",
    "        \"Capital-gain\",\n",
    "        \"Capital-loss\",\n",
    "        \"Hours-per-week\"\n",
    "    ]\n",
    "].values\n",
    "y =(adult['Earnings-Raw']==\" >50K\").values"
   ]
  },
  {
   "cell_type": "code",
   "execution_count": 36,
   "metadata": {},
   "outputs": [
    {
     "name": "stdout",
     "output_type": "stream",
     "text": [
      "[[   39  2174     0]\n",
      " [   50     0     0]\n",
      " [   38     0     0]\n",
      " ...\n",
      " [   58     0     0]\n",
      " [   22     0     0]\n",
      " [   52 15024     0]]\n",
      "[8.60061182e+03 2.40142178e+03 8.21924671e+07 1.37214589e+06\n",
      " 6.47640900e+03]\n"
     ]
    }
   ],
   "source": [
    "# 使用select相关转换器, 卡方函数打分\n",
    "from sklearn.feature_selection import SelectKBest\n",
    "from sklearn.feature_selection import chi2\n",
    "transformer = SelectKBest(score_func=chi2, k=3)\n",
    "#调用fit方法\n",
    "Xt_chi2 = transformer.fit_transform(X, y)\n",
    "print(Xt_chi2)\n",
    "print(transformer.scores_)"
   ]
  },
  {
   "cell_type": "markdown",
   "metadata": {},
   "source": [
    "相关性最好的是1,3,4列, 对应年龄, 资本收益, 资本损失  \n",
    "从单变量选取上, 这些就是最佳特征"
   ]
  },
  {
   "cell_type": "code",
   "execution_count": 39,
   "metadata": {},
   "outputs": [
    {
     "name": "stdout",
     "output_type": "stream",
     "text": [
      "[[39 13 40]\n",
      " [50 13 13]\n",
      " [38  9 40]\n",
      " ...\n",
      " [58  9 40]\n",
      " [22  9 20]\n",
      " [52  9 40]]\n",
      "[0.2340371  0.33515395 0.22332882 0.15052631 0.22968907]\n"
     ]
    }
   ],
   "source": [
    "#  或使用pearson系数(相关系数)计算相关性\n",
    "from scipy.stats import pearsonr\n",
    "import numpy as np\n",
    "def mul_pearsonr(X, y):\n",
    "    scores, pvalues = [], []\n",
    "    for column in range(X.shape[1]):\n",
    "        #计算该列的pearsonr系数\n",
    "        cur_score, cur_p = pearsonr(X[:,column], y)\n",
    "        scores.append(abs(cur_score))\n",
    "        pvalues.append(abs(cur_p))\n",
    "    return (np.array(scores), np.array(pvalues))\n",
    "transformer = SelectKBest(score_func=mul_pearsonr, k=3)\n",
    "Xt_pearsonr = transformer.fit_transform(X, y)\n",
    "print(Xt_pearsonr)\n",
    "print(transformer.scores_)"
   ]
  },
  {
   "cell_type": "markdown",
   "metadata": {},
   "source": [
    "得到的结果与卡方检验不一致, 表明特征最好没有标准答案--取决于度量标准  \n",
    "下面比较在特征集在不同分类器上的效果,  \n",
    "请注意几乎没有一种方法在所有情况下比另一种方法好的情况"
   ]
  },
  {
   "cell_type": "code",
   "execution_count": 51,
   "metadata": {},
   "outputs": [
    {
     "name": "stdout",
     "output_type": "stream",
     "text": [
      "chi:[0.82911101 0.82831695 0.83108108 0.8252457  0.83200246], pearsonr:[0.77168739 0.76689189 0.77610565 0.7730344  0.7730344 ]\n"
     ]
    }
   ],
   "source": [
    "from sklearn.tree import DecisionTreeClassifier\n",
    "from sklearn.model_selection import cross_val_score\n",
    "clf = DecisionTreeClassifier(random_state=14)\n",
    "score_chi2 = cross_val_score(clf, Xt_chi2, y, scoring=\"accuracy\")\n",
    "score_pearsonr = cross_val_score(clf, Xt_pearsonr, y, scoring=\"accuracy\")\n",
    "print(\"chi:{0}, pearsonr:{1}\".format(score_chi2, score_pearsonr))"
   ]
  },
  {
   "cell_type": "markdown",
   "metadata": {},
   "source": [
    "我们仅仅使用特征选择技术, 找到好的特征组合, 就能达到83%的正确率"
   ]
  },
  {
   "cell_type": "markdown",
   "metadata": {},
   "source": [
    "# 创建特征"
   ]
  },
  {
   "cell_type": "markdown",
   "metadata": {},
   "source": [
    "特征之间的相关性很强, 或者特征冗余, 都会增加算法处理困难.  \n",
    "出于这个原因, 创建特征就很有必要.  \n",
    "使用uci advertisement数据集进行以下实验"
   ]
  },
  {
   "cell_type": "code",
   "execution_count": 87,
   "metadata": {},
   "outputs": [],
   "source": [
    "import os \n",
    "import pandas as pd\n",
    "import numpy as np\n",
    "from collections import defaultdict\n",
    "data_filename = os.path.join(os.getcwd(),\"dataset\", \"advertisement\", \"ad.data\")\n",
    "#  进行缺失值处理\n",
    "#  字符串转浮点数\n",
    "#  空缺值得处理\n",
    "def convert_number(x):\n",
    "    try:\n",
    "        return float(x)\n",
    "    except ValueError:\n",
    "        return np.nan\n",
    "con = defaultdict(convert_number)\n",
    "#  把最后一列(编号#1558)的值转化为0/1, 该列表示每条数据的类别\n",
    "#  专门创建一列\n",
    "for i in range(1558):\n",
    "    con[i] = convert_number\n",
    "con[1558] = lambda x:1 if x.strip()==\"ad.\" else 0\n",
    "ads = pd.read_csv(data_filename, header=None, converters=con)\n",
    "ads.dropna(how='any', axis=0, inplace=True)"
   ]
  },
  {
   "cell_type": "code",
   "execution_count": 104,
   "metadata": {},
   "outputs": [],
   "source": [
    "#  前1558列为x矩阵, 最后一列为y矩阵\n",
    "X = ads.drop(1558, axis=1).values\n",
    "y = ads[1558]"
   ]
  },
  {
   "cell_type": "markdown",
   "metadata": {},
   "source": [
    "## 主成分分析\n",
    "发现没有相关性的特征, 能够描述数据集, 这些特征的方差跟整体方差没有多大差距  \n"
   ]
  },
  {
   "cell_type": "code",
   "execution_count": 105,
   "metadata": {},
   "outputs": [
    {
     "data": {
      "text/plain": [
       "array([0.854, 0.145, 0.001, 0.   , 0.   ])"
      ]
     },
     "execution_count": 105,
     "metadata": {},
     "output_type": "execute_result"
    }
   ],
   "source": [
    "from sklearn.decomposition import PCA\n",
    "pca = PCA(n_components=5)\n",
    "Xd = pca.fit_transform(X)\n",
    "np.set_printoptions(precision=3, suppress=True)\n",
    "pca.explained_variance_ratio_"
   ]
  },
  {
   "cell_type": "code",
   "execution_count": 120,
   "metadata": {},
   "outputs": [
    {
     "name": "stdout",
     "output_type": "stream",
     "text": [
      "0.94\n"
     ]
    }
   ],
   "source": [
    "#  尝试使用PCA后的数据做分类\n",
    "from sklearn.tree import DecisionTreeClassifier\n",
    "from sklearn.model_selection import cross_val_score\n",
    "clf = DecisionTreeClassifier(random_state=14)\n",
    "scores = cross_val_score(clf, Xd, y, scoring=\"accuracy\")\n",
    "print(\"{:.2f}\".format(np.mean(scores)))"
   ]
  },
  {
   "cell_type": "code",
   "execution_count": null,
   "metadata": {},
   "outputs": [],
   "source": []
  }
 ],
 "metadata": {
  "kernelspec": {
   "display_name": "Python [conda env:root] *",
   "language": "python",
   "name": "conda-root-py"
  },
  "language_info": {
   "codemirror_mode": {
    "name": "ipython",
    "version": 3
   },
   "file_extension": ".py",
   "mimetype": "text/x-python",
   "name": "python",
   "nbconvert_exporter": "python",
   "pygments_lexer": "ipython3",
   "version": "3.7.7"
  },
  "latex_envs": {
   "LaTeX_envs_menu_present": true,
   "autoclose": true,
   "autocomplete": true,
   "bibliofile": "biblio.bib",
   "cite_by": "apalike",
   "current_citInitial": 1,
   "eqLabelWithNumbers": true,
   "eqNumInitial": 1,
   "hotkeys": {
    "equation": "Ctrl-E",
    "itemize": "Ctrl-I"
   },
   "labels_anchors": false,
   "latex_user_defs": false,
   "report_style_numbering": false,
   "user_envs_cfg": false
  },
  "toc": {
   "base_numbering": 1,
   "nav_menu": {},
   "number_sections": true,
   "sideBar": true,
   "skip_h1_title": false,
   "title_cell": "Table of Contents",
   "title_sidebar": "Contents",
   "toc_cell": true,
   "toc_position": {},
   "toc_section_display": true,
   "toc_window_display": false
  }
 },
 "nbformat": 4,
 "nbformat_minor": 4
}
