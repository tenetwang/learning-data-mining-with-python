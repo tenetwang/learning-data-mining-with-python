{
 "cells": [
  {
   "cell_type": "markdown",
   "metadata": {
    "toc": true
   },
   "source": [
    "<h1>Table of Contents<span class=\"tocSkip\"></span></h1>\n",
    "<div class=\"toc\"><ul class=\"toc-item\"><li><span><a href=\"#近邻算法\" data-toc-modified-id=\"近邻算法-1\"><span class=\"toc-item-num\">1&nbsp;&nbsp;</span>近邻算法</a></span><ul class=\"toc-item\"><li><span><a href=\"#距离度量\" data-toc-modified-id=\"距离度量-1.1\"><span class=\"toc-item-num\">1.1&nbsp;&nbsp;</span>距离度量</a></span></li></ul></li><li><span><a href=\"#流水线在预处理中的应用\" data-toc-modified-id=\"流水线在预处理中的应用-2\"><span class=\"toc-item-num\">2&nbsp;&nbsp;</span>流水线在预处理中的应用</a></span><ul class=\"toc-item\"><li><span><a href=\"#预处理\" data-toc-modified-id=\"预处理-2.1\"><span class=\"toc-item-num\">2.1&nbsp;&nbsp;</span>预处理</a></span></li><li><span><a href=\"#流水线\" data-toc-modified-id=\"流水线-2.2\"><span class=\"toc-item-num\">2.2&nbsp;&nbsp;</span>流水线</a></span></li></ul></li><li><span><a href=\"#总结\" data-toc-modified-id=\"总结-3\"><span class=\"toc-item-num\">3&nbsp;&nbsp;</span>总结</a></span></li></ul></div>"
   ]
  },
  {
   "cell_type": "markdown",
   "metadata": {},
   "source": [
    "框架  \n",
    " - 估计器 estimater: 用于分类\\聚类\\回归分析\n",
    " - 转换器 transformer:用于数据预处理和数据转换\n",
    " - 流水线 pipeline: 组合数据挖掘流程,便于再次使用"
   ]
  },
  {
   "cell_type": "markdown",
   "metadata": {},
   "source": [
    "sklearn 把功能封装成所谓的估计器  \n",
    "用于分类任务,包含两个主函数:  \n",
    " -  fit(): 训练算法,实现参数设定  \n",
    " - predict(): 参数为测试集,用以产生预测结果\n",
    " "
   ]
  },
  {
   "cell_type": "code",
   "execution_count": 2,
   "metadata": {},
   "outputs": [],
   "source": [
    "%matplotlib inline"
   ]
  },
  {
   "cell_type": "markdown",
   "metadata": {},
   "source": [
    "# 近邻算法 "
   ]
  },
  {
   "cell_type": "markdown",
   "metadata": {},
   "source": [
    "## 距离度量 "
   ]
  },
  {
   "cell_type": "markdown",
   "metadata": {},
   "source": [
    "距离度量是近邻算法的核心问题之一,  \n",
    "使用的距离包括:\n",
    " - 欧式距离: 特征向量差的2范数(不好用的原因在于,向量中有很大或者本身很稀疏情况下,结果不鲁棒) \n",
    " - 曼哈顿距离: 特征向量差的1范数(有些问题,比如棋盘,具有空间特殊性,1范数很不错)\n",
    " - 余弦距离: 特征向量夹角的余弦"
   ]
  },
  {
   "cell_type": "code",
   "execution_count": 4,
   "metadata": {},
   "outputs": [
    {
     "name": "stdout",
     "output_type": "stream",
     "text": [
      "D:\\My Profile\\5 graduate\\my research\\python\\learning data mining with python\n"
     ]
    }
   ],
   "source": [
    "# Ionosphere 数据集 from archive.ics,uci,edu/ml\n",
    "import os\n",
    "print(os.getcwd())"
   ]
  },
  {
   "cell_type": "code",
   "execution_count": 7,
   "metadata": {},
   "outputs": [
    {
     "name": "stdout",
     "output_type": "stream",
     "text": [
      "D:\\My Profile\\5 graduate\\my research\\python\\learning data mining with python\\dataset\\Ionosphere\\ionosphere.data\n"
     ]
    }
   ],
   "source": [
    "import numpy as np\n",
    "import csv\n",
    "data_filename = os.path.join(os.getcwd(),\"dataset\",\"Ionosphere\",\"ionosphere.data\")\n",
    "print(data_filename)\n",
    "\n",
    "X = np.zeros((351, 34), dtype='float')\n",
    "y = np.zeros((351, ), dtype='bool')\n",
    "with open(data_filename, 'r') as input_file:\n",
    "    reader = csv.reader(input_file)\n",
    "    for i, row in enumerate(reader):\n",
    "        data = [float(value) for value in row[:-1]]\n",
    "        X[i] = data\n",
    "        y[i] = (row[-1]=='g')"
   ]
  },
  {
   "cell_type": "code",
   "execution_count": 25,
   "metadata": {},
   "outputs": [
    {
     "name": "stdout",
     "output_type": "stream",
     "text": [
      "accuracy is 86.36%\n"
     ]
    }
   ],
   "source": [
    "from sklearn.model_selection import train_test_split\n",
    "X_train, X_test, y_train, y_test = train_test_split(X, y, random_state=14)\n",
    "from sklearn.neighbors import KNeighborsClassifier\n",
    "estimator = KNeighborsClassifier()\n",
    "estimator.fit(X_train, y_train)\n",
    "y_predicted = estimator.predict(X_test)\n",
    "accuracy = np.mean(y_test==y_predicted)*100\n",
    "print(\"accuracy is {:.2f}%\".format(accuracy))"
   ]
  },
  {
   "cell_type": "code",
   "execution_count": 37,
   "metadata": {},
   "outputs": [
    {
     "name": "stdout",
     "output_type": "stream",
     "text": [
      "average accuracy is 82.62%\n"
     ]
    }
   ],
   "source": [
    "# 采用交叉验证\n",
    "from sklearn.model_selection import cross_val_score\n",
    "scores = cross_val_score(estimator, X, y, scoring=\"accuracy\")\n",
    "average_accuracy = np.mean(scores) * 100\n",
    "print(\"average accuracy is {0:.2f}%\".format(average_accuracy))"
   ]
  },
  {
   "cell_type": "code",
   "execution_count": 44,
   "metadata": {},
   "outputs": [
    {
     "data": {
      "image/png": "[encoded data removed]",
      "text/plain": [
       "<Figure size 432x288 with 1 Axes>"
      ]
     },
     "metadata": {
      "needs_background": "light"
     },
     "output_type": "display_data"
    }
   ],
   "source": [
    "# 评估n_neigbour\n",
    "avg_scores = []\n",
    "all_scores = []\n",
    "parameter_values = list(range(1,21))\n",
    "for n in parameter_values:\n",
    "    estimator = KNeighborsClassifier(n_neighbors=n)\n",
    "    scores = cross_val_score(estimator, X, y, scoring=\"accuracy\")\n",
    "    avg_scores.append(np.mean(scores))\n",
    "    all_scores.append(scores)\n",
    "from matplotlib import pyplot as plt\n",
    "plt.figure()\n",
    "plt.plot(parameter_values, avg_scores, '-o')\n",
    "plt.show()"
   ]
  },
  {
   "cell_type": "markdown",
   "metadata": {},
   "source": [
    "# 流水线在预处理中的应用"
   ]
  },
  {
   "cell_type": "markdown",
   "metadata": {},
   "source": [
    "## 预处理  \n",
    "选择最具有区分度的特征,创建新特征都属于数据预处理  \n",
    "sklearn的预处理工具室transformer  \n",
    "它接受原始数据集, 返回转换后的数据集  \n",
    "除了处理数值特征, 转换器还能用来抽取特征"
   ]
  },
  {
   "cell_type": "code",
   "execution_count": 50,
   "metadata": {},
   "outputs": [
    {
     "name": "stdout",
     "output_type": "stream",
     "text": [
      "0.6637424547283701\n"
     ]
    }
   ],
   "source": [
    "# 破坏 Ionosphere 数据集\n",
    "X_broken = np.array(X)\n",
    "X_broken[:,::2] /= 10\n",
    "scores = cross_val_score(estimator, X_broken, y, scoring=\"accuracy\")\n",
    "print(np.mean(scores))"
   ]
  },
  {
   "cell_type": "code",
   "execution_count": 51,
   "metadata": {},
   "outputs": [
    {
     "name": "stdout",
     "output_type": "stream",
     "text": [
      "0.8175452716297787\n"
     ]
    }
   ],
   "source": [
    "# 使用 minmaxscaler 进行规范化\n",
    "from sklearn.preprocessing import MinMaxScaler as mms\n",
    "# mms 不需要先训练转换器\n",
    "# 将每列值投影到[0,1]\n",
    "X_transformed = mms().fit_transform(X_broken)\n",
    "scores = cross_val_score(estimator, X_transformed, y, scoring=\"accuracy\")\n",
    "print(np.mean(scores))\n"
   ]
  },
  {
   "cell_type": "markdown",
   "metadata": {},
   "source": [
    "## 流水线 "
   ]
  },
  {
   "cell_type": "markdown",
   "metadata": {},
   "source": [
    "流水线的输入是一连串的数据挖掘步骤, 最后一步是估计器, 前几步是转换器;  \n",
    "流水线的核心是元素为tuple的list  \n",
    "高级测试方法,用流水线是必要的  "
   ]
  },
  {
   "cell_type": "code",
   "execution_count": 54,
   "metadata": {},
   "outputs": [
    {
     "name": "stdout",
     "output_type": "stream",
     "text": [
      "0.8290140845070422\n"
     ]
    }
   ],
   "source": [
    "from sklearn.pipeline import Pipeline\n",
    "scaling = Pipeline([('scale',mms()),\n",
    "                   ('predict', KNeighborsClassifier())])\n",
    "scores = cross_val_score(scaling, X_broken, y, scoring=\"accuracy\")\n",
    "print(np.mean(scores))"
   ]
  },
  {
   "cell_type": "markdown",
   "metadata": {},
   "source": [
    "# 总结 "
   ]
  },
  {
   "cell_type": "markdown",
   "metadata": {},
   "source": [
    " - os.path.join可以解决路径拼接的问题,很好用\n",
    " - bool变量可以用(a==b)直接获取值 True/False\n",
    " - array的slice方法很好用,比如隔行取值操作list[:,::2]\n",
    " - cross_validation模块没了, 现在用model_selection\n",
    " - format格式化函数很好用, str.format()\n",
    " - 特征选取和特征操作, 用sklearn.preprocessing, Pipeline实际上为验证提供完整的数据流"
   ]
  }
 ],
 "metadata": {
  "kernelspec": {
   "display_name": "Python [conda env:root] *",
   "language": "python",
   "name": "conda-root-py"
  },
  "language_info": {
   "codemirror_mode": {
    "name": "ipython",
    "version": 3
   },
   "file_extension": ".py",
   "mimetype": "text/x-python",
   "name": "python",
   "nbconvert_exporter": "python",
   "pygments_lexer": "ipython3",
   "version": "3.7.7"
  },
  "latex_envs": {
   "LaTeX_envs_menu_present": true,
   "autoclose": true,
   "autocomplete": true,
   "bibliofile": "biblio.bib",
   "cite_by": "apalike",
   "current_citInitial": 1,
   "eqLabelWithNumbers": true,
   "eqNumInitial": 1,
   "hotkeys": {
    "equation": "Ctrl-E",
    "itemize": "Ctrl-I"
   },
   "labels_anchors": false,
   "latex_user_defs": false,
   "report_style_numbering": false,
   "user_envs_cfg": false
  },
  "toc": {
   "base_numbering": 1,
   "nav_menu": {},
   "number_sections": true,
   "sideBar": true,
   "skip_h1_title": false,
   "title_cell": "Table of Contents",
   "title_sidebar": "Contents",
   "toc_cell": true,
   "toc_position": {},
   "toc_section_display": true,
   "toc_window_display": false
  }
 },
 "nbformat": 4,
 "nbformat_minor": 4
}
