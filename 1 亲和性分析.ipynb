{
 "cells": [
  {
   "cell_type": "markdown",
   "metadata": {
    "toc": true
   },
   "source": [
    "<h1>Table of Contents<span class=\"tocSkip\"></span></h1>\n",
    "<div class=\"toc\"><ul class=\"toc-item\"></ul></div>"
   ]
  },
  {
   "cell_type": "markdown",
   "metadata": {},
   "source": [
    " 商品推荐"
   ]
  },
  {
   "cell_type": "code",
   "execution_count": 9,
   "metadata": {
    "scrolled": true
   },
   "outputs": [
    {
     "name": "stdout",
     "output_type": "stream",
     "text": [
      "[[0. 0. 1. 1. 1.]\n",
      " [1. 1. 0. 1. 0.]\n",
      " [1. 0. 1. 1. 0.]\n",
      " [0. 0. 1. 1. 1.]\n",
      " [0. 1. 0. 0. 1.]]\n"
     ]
    }
   ],
   "source": [
    "# load the dataset\n",
    "import numpy as np\n",
    "dsName = \"affinity_dataset.txt\"\n",
    "ds = np.loadtxt(dsName)\n",
    "# 展示前五行\n",
    "print(ds[:5])\n"
   ]
  },
  {
   "cell_type": "markdown",
   "metadata": {},
   "source": [
    "支持度：规则的应验程度，在全体里面，给定规则应验的次数\n",
    "置信度：规则的准确性，满足if条件的里面的规则应验的程度  "
   ]
  },
  {
   "cell_type": "code",
   "execution_count": 30,
   "metadata": {
    "scrolled": true
   },
   "outputs": [
    {
     "name": "stdout",
     "output_type": "stream",
     "text": [
      "((2, 5), 27) 0.6585365853658537\n",
      "((3, 5), 21) 0.5833333333333334\n",
      "((1, 5), 19) 0.41304347826086957\n",
      "((0, 5), 17) 0.6296296296296297\n"
     ]
    }
   ],
   "source": [
    "from collections import defaultdict\n",
    "valid_rules = defaultdict(int)\n",
    "invalid_rules = defaultdict(int)\n",
    "num_occur = defaultdict(int)\n",
    "for item in ds:\n",
    "    for i in range(4):\n",
    "        if item[i] != 0:\n",
    "            num_occur[i] += 1\n",
    "    if item[-1] == 1:\n",
    "        for k,v in enumerate(item[:-1]):\n",
    "            if v == 1:\n",
    "                valid_rules[(k,len(item)-1)] += 1\n",
    "            else:\n",
    "                invalid_rules[(k,len(item)-1)] += 1\n",
    "support = valid_rules\n",
    "confidence = defaultdict(float)\n",
    "for rule in valid_rules.keys():\n",
    "    confidence[rule] = valid_rules[rule] / num_occur[rule[0]]\n",
    "from operator import itemgetter\n",
    "sorted_support = sorted(support.items(), key=itemgetter(1), reverse=True)\n",
    "sorted_confidence = sorted(confidence.items(), key=lambda x:x[1], reverse=True)\n",
    "for i in range(4):\n",
    "    print(sorted_support[i],confidence[sorted_support[i][0]])"
   ]
  },
  {
   "cell_type": "markdown",
   "metadata": {},
   "source": [
    "反思：  \n",
    " - 构建feature map，方便表明feature与index之间的关系  \n",
    " - 支持度是数量，置信度是比例：规则（条件加结论）成立 / 条件成立  \n",
    " - dict.items()返回字典（k，v）构成的列表\n",
    " - sorted reverse是降序排列\n"
   ]
  }
 ],
 "metadata": {
  "kernelspec": {
   "display_name": "Python [conda env:root] *",
   "language": "python",
   "name": "conda-root-py"
  },
  "language_info": {
   "codemirror_mode": {
    "name": "ipython",
    "version": 3
   },
   "file_extension": ".py",
   "mimetype": "text/x-python",
   "name": "python",
   "nbconvert_exporter": "python",
   "pygments_lexer": "ipython3",
   "version": "3.7.7"
  },
  "latex_envs": {
   "LaTeX_envs_menu_present": true,
   "autoclose": true,
   "autocomplete": true,
   "bibliofile": "biblio.bib",
   "cite_by": "apalike",
   "current_citInitial": 1,
   "eqLabelWithNumbers": true,
   "eqNumInitial": 1,
   "hotkeys": {
    "equation": "Ctrl-E",
    "itemize": "Ctrl-I"
   },
   "labels_anchors": false,
   "latex_user_defs": false,
   "report_style_numbering": false,
   "user_envs_cfg": false
  },
  "toc": {
   "base_numbering": 1,
   "nav_menu": {},
   "number_sections": true,
   "sideBar": true,
   "skip_h1_title": false,
   "title_cell": "Table of Contents",
   "title_sidebar": "Contents",
   "toc_cell": true,
   "toc_position": {},
   "toc_section_display": true,
   "toc_window_display": false
  }
 },
 "nbformat": 4,
 "nbformat_minor": 4
}
