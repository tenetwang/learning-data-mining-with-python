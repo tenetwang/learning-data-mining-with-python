{
 "cells": [
  {
   "cell_type": "markdown",
   "metadata": {
    "toc": true
   },
   "source": [
    "<h1>Table of Contents<span class=\"tocSkip\"></span></h1>\n",
    "<div class=\"toc\"><ul class=\"toc-item\"><li><span><a href=\"#人工神经网络\" data-toc-modified-id=\"人工神经网络-1\"><span class=\"toc-item-num\">1&nbsp;&nbsp;</span>人工神经网络</a></span></li><li><span><a href=\"#创建数据集\" data-toc-modified-id=\"创建数据集-2\"><span class=\"toc-item-num\">2&nbsp;&nbsp;</span>创建数据集</a></span><ul class=\"toc-item\"><li><span><a href=\"#创建验证码captcha\" data-toc-modified-id=\"创建验证码captcha-2.1\"><span class=\"toc-item-num\">2.1&nbsp;&nbsp;</span>创建验证码captcha</a></span></li><li><span><a href=\"#分割字母\" data-toc-modified-id=\"分割字母-2.2\"><span class=\"toc-item-num\">2.2&nbsp;&nbsp;</span>分割字母</a></span></li><li><span><a href=\"#创建训练集\" data-toc-modified-id=\"创建训练集-2.3\"><span class=\"toc-item-num\">2.3&nbsp;&nbsp;</span>创建训练集</a></span></li><li><span><a href=\"#根据抽取方法调整训练集图像\" data-toc-modified-id=\"根据抽取方法调整训练集图像-2.4\"><span class=\"toc-item-num\">2.4&nbsp;&nbsp;</span>根据抽取方法调整训练集图像</a></span></li></ul></li><li><span><a href=\"#训练和分类\" data-toc-modified-id=\"训练和分类-3\"><span class=\"toc-item-num\">3&nbsp;&nbsp;</span>训练和分类</a></span></li></ul></div>"
   ]
  },
  {
   "cell_type": "markdown",
   "metadata": {},
   "source": [
    "本章介绍如何用神经网络自动识别验证码。  \n",
    "验证码的英文是CAPTCHA，是首字母缩写。  \n",
    "本章包含以下内容： \n",
    " - 神经网络\n",
    " - 创建验证码和字母的数据集\n",
    " - 用scikit-image处理图像数据\n",
    " - 神经网络库PyBrain\n",
    " - 从图像中抽取基本特征  \n",
    " - 使用神经网络进行更大规模的分类任务\n",
    " - 用后处理提升效果"
   ]
  },
  {
   "cell_type": "markdown",
   "metadata": {},
   "source": [
    "# 人工神经网络"
   ]
  },
  {
   "cell_type": "markdown",
   "metadata": {},
   "source": [
    "这里，我们需要自己动手，实现验证码的生成。   \n",
    "生成的验证码是弱化的验证码，比不上真实的验证码。  \n",
    "生成思路是，对单词使用错切变化，使用PIL库和scikit-image库。  \n",
    "scikit-image能够接受PIL库导出的numpy格式的图像数据，结合两个库进行使用。"
   ]
  },
  {
   "cell_type": "markdown",
   "metadata": {},
   "source": [
    "PIL库实际上在python3中是Pillow库，使用方式，仍import PIL"
   ]
  },
  {
   "cell_type": "markdown",
   "metadata": {},
   "source": [
    "# 创建数据集 "
   ]
  },
  {
   "cell_type": "markdown",
   "metadata": {},
   "source": [
    "## 创建验证码captcha "
   ]
  },
  {
   "cell_type": "code",
   "execution_count": 2,
   "metadata": {},
   "outputs": [],
   "source": [
    "import numpy as np\n",
    "from PIL import Image, ImageDraw, ImageFont\n",
    "from skimage import transform as tf"
   ]
  },
  {
   "cell_type": "code",
   "execution_count": 3,
   "metadata": {},
   "outputs": [],
   "source": [
    "def create_captcha(text, shear=0, size=(100,24)):\n",
    "    im = Image.new(\"L\", size, \"black\")\n",
    "    draw = ImageDraw.Draw(im)\n",
    "    font = ImageFont.truetype(r\"Abel-Regular.ttf\", 22)\n",
    "    draw.text((0,-5), text, fill=1, font=font)\n",
    "    image = np.array(im)\n",
    "    affine_tf = tf.AffineTransform(shear=shear)\n",
    "    image = tf.warp(image, affine_tf)\n",
    "    return image / image.max()"
   ]
  },
  {
   "cell_type": "code",
   "execution_count": 4,
   "metadata": {},
   "outputs": [
    {
     "data": {
      "image/png": "[encoded data removed]",
      "text/plain": [
       "<Figure size 432x288 with 1 Axes>"
      ]
     },
     "metadata": {
      "needs_background": "light"
     },
     "output_type": "display_data"
    }
   ],
   "source": [
    "%matplotlib inline\n",
    "from matplotlib import pyplot as plt\n",
    "image = create_captcha(\"GENE\", shear=0.5)\n",
    "plt.figure()\n",
    "plt.imshow(image, cmap=\"Greys\")\n",
    "plt.show()"
   ]
  },
  {
   "cell_type": "markdown",
   "metadata": {},
   "source": [
    "## 分割字母 "
   ]
  },
  {
   "cell_type": "code",
   "execution_count": 5,
   "metadata": {},
   "outputs": [],
   "source": [
    "from skimage.measure import label, regionprops\n",
    "def segment_image(image):\n",
    "    #  label函数能够返回图像中像素值相同且又连接在一起的像素块\n",
    "    labeled_image = label(image>0)\n",
    "    subimages = []\n",
    "    for region in regionprops(labeled_image):\n",
    "        startx, starty, endx, endy = region.bbox\n",
    "        subimages.append(image[startx:endx, starty:endy])\n",
    "    if len(subimages)==0:\n",
    "        return [image, ]\n",
    "    else:\n",
    "        return subimages"
   ]
  },
  {
   "cell_type": "code",
   "execution_count": 6,
   "metadata": {},
   "outputs": [
    {
     "data": {
      "image/png": "[encoded data removed]",
      "text/plain": [
       "<Figure size 720x216 with 4 Axes>"
      ]
     },
     "metadata": {
      "needs_background": "light"
     },
     "output_type": "display_data"
    }
   ],
   "source": [
    "subimages = segment_image(image)\n",
    "f, axes = plt.subplots(1, len(subimages),figsize=(10,3))\n",
    "for k,v in enumerate(subimages):\n",
    "    axes[k].imshow(v, cmap=\"Greys\")"
   ]
  },
  {
   "cell_type": "markdown",
   "metadata": {},
   "source": [
    "## 创建训练集 "
   ]
  },
  {
   "cell_type": "code",
   "execution_count": 7,
   "metadata": {},
   "outputs": [],
   "source": [
    "# 指定随机状态值\n",
    "# 创建字母表\n",
    "# 指定shear错切值\n",
    "from sklearn.utils import check_random_state\n",
    "random_state = check_random_state(14) #  Turn seed into a np.random.RandomState instance\n",
    "letters = list(\"ABCDEFGHIJKLMNOPQRSTUVWXYZ\")\n",
    "shear_values = np.arange(0, 0.5, 0.05) # range() 函数只能处理整数（包括正数和负数）， np.arange()可以处理小数"
   ]
  },
  {
   "cell_type": "code",
   "execution_count": 8,
   "metadata": {},
   "outputs": [
    {
     "data": {
      "text/plain": [
       "<matplotlib.image.AxesImage at 0x1f4c5af4588>"
      ]
     },
     "execution_count": 8,
     "metadata": {},
     "output_type": "execute_result"
    },
    {
     "data": {
      "image/png": "[encoded data removed]",
      "text/plain": [
       "<Figure size 432x288 with 1 Axes>"
      ]
     },
     "metadata": {
      "needs_background": "light"
     },
     "output_type": "display_data"
    }
   ],
   "source": [
    "def generate_sample(random_state=None):\n",
    "    global letters, shear_values\n",
    "    random_state = check_random_state(random_state)\n",
    "    letter = random_state.choice(letters)\n",
    "    shear = random_state.choice(shear_values)\n",
    "    return create_captcha(letter, shear = shear, size=(20, 20)), letters.index(letter) # index 返回目标所在的位置\n",
    "# test this function\n",
    "image, target = generate_sample(random_state)\n",
    "plt.imshow(image, cmap=\"Greys\")\n"
   ]
  },
  {
   "cell_type": "code",
   "execution_count": 9,
   "metadata": {},
   "outputs": [],
   "source": [
    "# 循环创建数据集\n",
    "dataset, targets = zip(*(generate_sample(random_state) for i in range(3000))) # 这里需要对iterater返回的内容进行解索引，在内容前面加*\n",
    "dataset = np.array(dataset, dtype='float')\n",
    "targets = np.array(targets)"
   ]
  },
  {
   "cell_type": "code",
   "execution_count": 27,
   "metadata": {},
   "outputs": [],
   "source": [
    "# 采用onehot编码\n",
    "from sklearn.preprocessing import OneHotEncoder\n",
    "onehot = OneHotEncoder()\n",
    "y = onehot.fit_transform(targets.reshape(targets.shape[0], 1))\n",
    "y = y.todense() # 将矩阵转换成密级矩阵， 因为库不支持稀疏矩阵"
   ]
  },
  {
   "cell_type": "markdown",
   "metadata": {},
   "source": [
    "## 根据抽取方法调整训练集图像\n",
    "我们抽取图像的方法是size(20, 20)的图像，但是在验证码图像分割时，是从单词中抽取图像，可能会造成图像畸变"
   ]
  },
  {
   "cell_type": "code",
   "execution_count": 37,
   "metadata": {},
   "outputs": [],
   "source": [
    "# 使用resize函数\n",
    "from skimage.transform import resize\n",
    "# 将得到的小图调整为20像素见方\n",
    "dataset = np.array(\n",
    "    [resize(segment_image(sample)[0], (20, 20)) for sample in dataset]\n",
    ")\n",
    "X = dataset.reshape((dataset.shape[0], dataset.shape[1]*dataset.shape[2]))\n",
    "# 切分数据集\n",
    "from sklearn.model_selection import train_test_split\n",
    "X_train, X_test, y_train, y_test = train_test_split(X, y, train_size=0.8)"
   ]
  },
  {
   "cell_type": "markdown",
   "metadata": {},
   "source": [
    "# 训练和分类 "
   ]
  },
  {
   "cell_type": "code",
   "execution_count": 38,
   "metadata": {},
   "outputs": [],
   "source": [
    "# 将pybrain的数据格式引入\n",
    "from pybrain.datasets import SupervisedDataSet\n",
    "# training set\n",
    "training = SupervisedDataSet(X.shape[1], y.shape[1])\n",
    "for i in range(X_train.shape[0]):\n",
    "    training.addSample(X_train[i], y_train[i])\n",
    "#test set\n",
    "testing = SupervisedDataSet(X.shape[1], y.shape[1])\n",
    "for i in range(X_test.shape[0]):\n",
    "    testing.addSample(X_test[i], y_test[i])"
   ]
  },
  {
   "cell_type": "code",
   "execution_count": null,
   "metadata": {},
   "outputs": [],
   "source": []
  }
 ],
 "metadata": {
  "kernelspec": {
   "display_name": "Python [conda env:root] *",
   "language": "python",
   "name": "conda-root-py"
  },
  "language_info": {
   "codemirror_mode": {
    "name": "ipython",
    "version": 3
   },
   "file_extension": ".py",
   "mimetype": "text/x-python",
   "name": "python",
   "nbconvert_exporter": "python",
   "pygments_lexer": "ipython3",
   "version": "3.7.3"
  },
  "latex_envs": {
   "LaTeX_envs_menu_present": true,
   "autoclose": false,
   "autocomplete": true,
   "bibliofile": "biblio.bib",
   "cite_by": "apalike",
   "current_citInitial": 1,
   "eqLabelWithNumbers": true,
   "eqNumInitial": 1,
   "hotkeys": {
    "equation": "Ctrl-E",
    "itemize": "Ctrl-I"
   },
   "labels_anchors": false,
   "latex_user_defs": false,
   "report_style_numbering": false,
   "user_envs_cfg": false
  },
  "nbTranslate": {
   "displayLangs": [
    "*"
   ],
   "hotkey": "alt-t",
   "langInMainMenu": true,
   "sourceLang": "en",
   "targetLang": "fr",
   "useGoogleTranslate": true
  },
  "toc": {
   "base_numbering": 1,
   "nav_menu": {},
   "number_sections": true,
   "sideBar": true,
   "skip_h1_title": false,
   "title_cell": "Table of Contents",
   "title_sidebar": "Contents",
   "toc_cell": true,
   "toc_position": {
    "height": "calc(100% - 180px)",
    "left": "10px",
    "top": "150px",
    "width": "384px"
   },
   "toc_section_display": true,
   "toc_window_display": true
  },
  "varInspector": {
   "cols": {
    "lenName": 16,
    "lenType": 16,
    "lenVar": 40
   },
   "kernels_config": {
    "python": {
     "delete_cmd_postfix": "",
     "delete_cmd_prefix": "del ",
     "library": "var_list.py",
     "varRefreshCmd": "print(var_dic_list())"
    },
    "r": {
     "delete_cmd_postfix": ") ",
     "delete_cmd_prefix": "rm(",
     "library": "var_list.r",
     "varRefreshCmd": "cat(var_dic_list()) "
    }
   },
   "types_to_exclude": [
    "module",
    "function",
    "builtin_function_or_method",
    "instance",
    "_Feature"
   ],
   "window_display": false
  }
 },
 "nbformat": 4,
 "nbformat_minor": 4
}
